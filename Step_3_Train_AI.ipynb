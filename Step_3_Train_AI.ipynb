{
 "cells": [
  {
   "cell_type": "code",
   "execution_count": null,
   "metadata": {},
   "outputs": [],
   "source": [
    "import os\n",
    "os.system('cd ./src/yolov5 && python train.py --img 640 --batch 16 --epochs 3 --data \"../../data/dataset.yaml\" --weights yolov5s.pt')"
   ]
  }
 ],
 "metadata": {
  "kernelspec": {
   "display_name": "venv",
   "language": "python",
   "name": "python3"
  },
  "language_info": {
   "name": "python",
   "version": "3.10.9 (tags/v3.10.9:1dd9be6, Dec  6 2022, 20:01:21) [MSC v.1934 64 bit (AMD64)]"
  },
  "orig_nbformat": 4,
  "vscode": {
   "interpreter": {
    "hash": "703b355d5351c4b9bc5a15252d3b34a945c1e9e1d708ff22735e9a8f55ae1bdc"
   }
  }
 },
 "nbformat": 4,
 "nbformat_minor": 2
}
